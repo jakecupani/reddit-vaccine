{
 "cells": [
  {
   "cell_type": "markdown",
   "metadata": {},
   "source": [
    "# On the Comparison of Reddit Vaccine Sentiment and Vaccination Rates"
   ]
  },
  {
   "cell_type": "markdown",
   "metadata": {},
   "source": [
    "## Imports and Setup"
   ]
  },
  {
   "cell_type": "code",
   "execution_count": 8,
   "metadata": {},
   "outputs": [],
   "source": [
    "import psaw\n",
    "import praw\n",
    "import time\n",
    "from textblob import TextBlob \n",
    "import pandas as pd\n",
    "import calendar\n",
    "import json\n",
    "import time\n",
    "import sqlite3\n",
    "import re\n",
    "import requests\n",
    "import pickle\n",
    "import nltk"
   ]
  },
  {
   "cell_type": "code",
   "execution_count": 9,
   "metadata": {},
   "outputs": [],
   "source": [
    "reddit = praw.Reddit(client_id=\"ocFW4suZzuyzUw\",\n",
    "                      client_secret=\"V8Gye3WdzLpBkKI5bPUGDv0gqz4\",\n",
    "                      user_agent=\"prawtestv1\",\n",
    "                      username=\"jcupani1\",\n",
    "                      password=\"Pokemon123\")"
   ]
  },
  {
   "cell_type": "markdown",
   "metadata": {},
   "source": [
    "## Function Definitions"
   ]
  },
  {
   "cell_type": "code",
   "execution_count": 10,
   "metadata": {},
   "outputs": [],
   "source": [
    "def collectData():\n",
    "  # Initialize Reddit Instance\n",
    "  reddit = praw.Reddit(client_id=\"ocFW4suZzuyzUw\",\n",
    "                      client_secret=\"V8Gye3WdzLpBkKI5bPUGDv0gqz4\",\n",
    "                      user_agent=\"prawtestv1\",\n",
    "                      username=\"jcupani1\",\n",
    "                      password=\"Pokemon123\")\n",
    "\n",
    "  # State Subreddit Names\n",
    "  state_names = [\"Alabama\", \"Alaska\", \"Arizona\", \"Arkansas\", \"California\", \"Colorado\", \"Connecticut\", \"Delaware\", \"Florida\", \"Georgia\", \"Hawaii\", \"Idaho\", \"Illinois\", \"Indiana\", \"Iowa\", \"Kansas\", \"Kentucky\", \"Louisiana\", \"Maine\", \"Maryland\", \"Massachusetts\", \"Michigan\", \"Minnesota\", \"Mississippi\", \"Missouri\", \"Montana\", \"Nebraska\", \"Nevada\", \"New Hampshire\", \"New Jersey\", \"New Mexico\", \"New York\", \"North Carolina\", \"North Dakota\", \"Ohio\", \"Oklahoma\", \"Oregon\", \"Pennsylvania\", \"Rhode Island\", \"South Carolina\", \"South Dakota\", \"Tennessee\", \"Texas\", \"Utah\", \"Vermont\", \"Virginia\", \"Washington\", \"West Virginia\", \"Wisconsin\", \"Wyoming\"]\n",
    "  list_of_subreddits = [x.replace(\" \",'') for x in state_names]\n",
    "  submissions = []\n",
    "\n",
    "  # Collect Data\n",
    "  for sub in list_of_subreddits:\n",
    "    subreddit = reddit.subreddit(sub)\n",
    "\n",
    "    # Collect Submissions\n",
    "    for submission in reddit.subreddit(sub).top(time_filter='all',limit=1000):\n",
    "      submissions.append(submission)\n",
    "\n",
    "  print(submissions)\n",
    "  return submissions"
   ]
  },
  {
   "cell_type": "code",
   "execution_count": 11,
   "metadata": {},
   "outputs": [],
   "source": [
    "def storeData(filename,db):\n",
    "  dbfile = open('C:/Users/Jake/Documents/Reddit COVID Sentiment Research/Reddit Vaccine Sentiment Project/' + filename + '.pickle', 'wb')\n",
    "  pickle.dump(db, dbfile)                     \n",
    "  dbfile.close()\n",
    "  return\n",
    "\n",
    "# storeData(\"submissionData\",submissions)"
   ]
  },
  {
   "cell_type": "code",
   "execution_count": 12,
   "metadata": {},
   "outputs": [],
   "source": [
    "def loadData(filename):\n",
    "  dbfile = open(\"C:/Users/Jake/Documents/Reddit COVID Sentiment Research/Reddit Vaccine Sentiment Project/\" + filename + '.pickle', 'rb')     \n",
    "  db = pickle.load(dbfile)\n",
    "  dbfile.close()\n",
    "  return db"
   ]
  },
  {
   "cell_type": "code",
   "execution_count": 13,
   "metadata": {},
   "outputs": [],
   "source": [
    "def filterPosts(posts):\n",
    "  filtered = []\n",
    "  for post in posts:\n",
    "    if post.created_utc <= 1646265600 and post.created_utc >= 1577836800:\n",
    "      if (\"covid\" in post.title.lower()) or (\"vaccine\" in post.title.lower()):\n",
    "        filtered.append(post)\n",
    "\n",
    "    \n",
    "  return filtered"
   ]
  },
  {
   "cell_type": "markdown",
   "metadata": {},
   "source": [
    "## Import Data"
   ]
  },
  {
   "cell_type": "code",
   "execution_count": 14,
   "metadata": {},
   "outputs": [
    {
     "ename": "AttributeError",
     "evalue": "Can't get attribute 'FiniteRetryStrategy' on <module 'prawcore.sessions' from 'c:\\\\users\\\\jake\\\\appdata\\\\local\\\\programs\\\\python\\\\python37\\\\lib\\\\site-packages\\\\prawcore\\\\sessions.py'>",
     "output_type": "error",
     "traceback": [
      "\u001b[1;31m---------------------------------------------------------------------------\u001b[0m",
      "\u001b[1;31mAttributeError\u001b[0m                            Traceback (most recent call last)",
      "\u001b[1;32m<ipython-input-14-524ef0368e95>\u001b[0m in \u001b[0;36m<module>\u001b[1;34m\u001b[0m\n\u001b[1;32m----> 1\u001b[1;33m \u001b[0mall_posts\u001b[0m \u001b[1;33m=\u001b[0m \u001b[0mloadData\u001b[0m\u001b[1;33m(\u001b[0m\u001b[1;34m\"all_posts\"\u001b[0m\u001b[1;33m)\u001b[0m\u001b[1;33m\u001b[0m\u001b[1;33m\u001b[0m\u001b[0m\n\u001b[0m\u001b[0;32m      2\u001b[0m \u001b[0mall_posts\u001b[0m \u001b[1;33m=\u001b[0m \u001b[0mfilterPosts\u001b[0m\u001b[1;33m(\u001b[0m\u001b[0mall_posts\u001b[0m\u001b[1;33m)\u001b[0m\u001b[1;33m\u001b[0m\u001b[1;33m\u001b[0m\u001b[0m\n\u001b[0;32m      3\u001b[0m \u001b[0mall_posts\u001b[0m\u001b[1;33m\u001b[0m\u001b[1;33m\u001b[0m\u001b[0m\n",
      "\u001b[1;32m<ipython-input-12-226e6a3e5d54>\u001b[0m in \u001b[0;36mloadData\u001b[1;34m(filename)\u001b[0m\n\u001b[0;32m      1\u001b[0m \u001b[1;32mdef\u001b[0m \u001b[0mloadData\u001b[0m\u001b[1;33m(\u001b[0m\u001b[0mfilename\u001b[0m\u001b[1;33m)\u001b[0m\u001b[1;33m:\u001b[0m\u001b[1;33m\u001b[0m\u001b[1;33m\u001b[0m\u001b[0m\n\u001b[0;32m      2\u001b[0m   \u001b[0mdbfile\u001b[0m \u001b[1;33m=\u001b[0m \u001b[0mopen\u001b[0m\u001b[1;33m(\u001b[0m\u001b[1;34m\"C:/Users/Jake/Documents/Reddit COVID Sentiment Research/Reddit Vaccine Sentiment Project/\"\u001b[0m \u001b[1;33m+\u001b[0m \u001b[0mfilename\u001b[0m \u001b[1;33m+\u001b[0m \u001b[1;34m'.pickle'\u001b[0m\u001b[1;33m,\u001b[0m \u001b[1;34m'rb'\u001b[0m\u001b[1;33m)\u001b[0m\u001b[1;33m\u001b[0m\u001b[1;33m\u001b[0m\u001b[0m\n\u001b[1;32m----> 3\u001b[1;33m   \u001b[0mdb\u001b[0m \u001b[1;33m=\u001b[0m \u001b[0mpickle\u001b[0m\u001b[1;33m.\u001b[0m\u001b[0mload\u001b[0m\u001b[1;33m(\u001b[0m\u001b[0mdbfile\u001b[0m\u001b[1;33m)\u001b[0m\u001b[1;33m\u001b[0m\u001b[1;33m\u001b[0m\u001b[0m\n\u001b[0m\u001b[0;32m      4\u001b[0m   \u001b[0mdbfile\u001b[0m\u001b[1;33m.\u001b[0m\u001b[0mclose\u001b[0m\u001b[1;33m(\u001b[0m\u001b[1;33m)\u001b[0m\u001b[1;33m\u001b[0m\u001b[1;33m\u001b[0m\u001b[0m\n\u001b[0;32m      5\u001b[0m   \u001b[1;32mreturn\u001b[0m \u001b[0mdb\u001b[0m\u001b[1;33m\u001b[0m\u001b[1;33m\u001b[0m\u001b[0m\n",
      "\u001b[1;31mAttributeError\u001b[0m: Can't get attribute 'FiniteRetryStrategy' on <module 'prawcore.sessions' from 'c:\\\\users\\\\jake\\\\appdata\\\\local\\\\programs\\\\python\\\\python37\\\\lib\\\\site-packages\\\\prawcore\\\\sessions.py'>"
     ]
    }
   ],
   "source": [
    "all_posts = loadData(\"all_posts\")\n",
    "all_posts = filterPosts(all_posts)\n",
    "all_posts"
   ]
  },
  {
   "cell_type": "code",
   "execution_count": null,
   "metadata": {},
   "outputs": [],
   "source": []
  }
 ],
 "metadata": {
  "kernelspec": {
   "display_name": "Python 3",
   "language": "python",
   "name": "python3"
  },
  "language_info": {
   "codemirror_mode": {
    "name": "ipython",
    "version": 3
   },
   "file_extension": ".py",
   "mimetype": "text/x-python",
   "name": "python",
   "nbconvert_exporter": "python",
   "pygments_lexer": "ipython3",
   "version": "3.7.2"
  }
 },
 "nbformat": 4,
 "nbformat_minor": 2
}
